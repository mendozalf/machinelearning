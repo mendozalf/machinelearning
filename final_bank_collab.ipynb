{
  "nbformat": 4,
  "nbformat_minor": 0,
  "metadata": {
    "colab": {
      "provenance": [],
      "include_colab_link": true
    },
    "kernelspec": {
      "name": "python3",
      "display_name": "Python 3"
    }
  },
  "cells": [
    {
      "cell_type": "markdown",
      "metadata": {
        "id": "view-in-github",
        "colab_type": "text"
      },
      "source": [
        "<a href=\"https://colab.research.google.com/github/mendozalf/machinelearning/blob/main/final_bank_collab.ipynb\" target=\"_parent\"><img src=\"https://colab.research.google.com/assets/colab-badge.svg\" alt=\"Open In Colab\"/></a>"
      ]
    },
    {
      "cell_type": "code",
      "metadata": {
        "id": "mA0HPVmIBT4C"
      },
      "source": [
        "import pandas as pd\n",
        "\n",
        "campaign = pd.read_csv('https://raw.githubusercontent.com/byui-cse/cse450-course/master/data/bank.csv')\n",
        "\n",
        "from sklearn import tree\n",
        "from sklearn.tree import DecisionTreeClassifier\n",
        "from sklearn.preprocessing import OneHotEncoder\n",
        "from sklearn.model_selection import train_test_split\n",
        "from sklearn.metrics import classification_report, confusion_matrix\n",
        "\n",
        "# Filter the data - if the poutcome is \"nonexistent\" that data isn't very useful\n",
        "#filtered_campaign = campaign[campaign['poutcome'] != 'nonexistent'].copy()"
      ],
      "execution_count": null,
      "outputs": []
    },
    {
      "cell_type": "code",
      "metadata": {
        "id": "StiU5QcPPxqQ"
      },
      "source": [
        "# Decide which features to use\n",
        "features = ['poutcome', 'job']\n",
        "X = pd.get_dummies(campaign[features], drop_first=True)\n",
        "y = campaign['y']"
      ],
      "execution_count": null,
      "outputs": []
    },
    {
      "cell_type": "code",
      "metadata": {
        "id": "ALLMN63FPyEQ"
      },
      "source": [
        "# Split data into training and testing sets\n",
        "X_train, X_test, y_train, y_test = train_test_split(X, y, test_size=0.2, random_state=42)\n"
      ],
      "execution_count": null,
      "outputs": []
    },
    {
      "cell_type": "code",
      "metadata": {
        "id": "RnGBwGVZPyyh",
        "colab": {
          "base_uri": "https://localhost:8080/",
          "height": 178
        },
        "outputId": "23107282-c7f7-43bc-b681-94dcd3153b45"
      },
      "source": [
        "# Oversample the success occurences in the training set\n",
        "from imblearn.over_sampling import RandomOverSampler\n",
        "ros = RandomOverSampler(sampling_strategy=1)\n",
        "X_train_resampled, y_train_resampled = ros.fit_resample(X_train, y_train)\n",
        "\n",
        "# Value counts for debugging\n",
        "y_train_resampled.value_counts()"
      ],
      "execution_count": null,
      "outputs": [
        {
          "output_type": "execute_result",
          "data": {
            "text/plain": [
              "y\n",
              "no     26333\n",
              "yes    26333\n",
              "Name: count, dtype: int64"
            ],
            "text/html": [
              "<div>\n",
              "<style scoped>\n",
              "    .dataframe tbody tr th:only-of-type {\n",
              "        vertical-align: middle;\n",
              "    }\n",
              "\n",
              "    .dataframe tbody tr th {\n",
              "        vertical-align: top;\n",
              "    }\n",
              "\n",
              "    .dataframe thead th {\n",
              "        text-align: right;\n",
              "    }\n",
              "</style>\n",
              "<table border=\"1\" class=\"dataframe\">\n",
              "  <thead>\n",
              "    <tr style=\"text-align: right;\">\n",
              "      <th></th>\n",
              "      <th>count</th>\n",
              "    </tr>\n",
              "    <tr>\n",
              "      <th>y</th>\n",
              "      <th></th>\n",
              "    </tr>\n",
              "  </thead>\n",
              "  <tbody>\n",
              "    <tr>\n",
              "      <th>no</th>\n",
              "      <td>26333</td>\n",
              "    </tr>\n",
              "    <tr>\n",
              "      <th>yes</th>\n",
              "      <td>26333</td>\n",
              "    </tr>\n",
              "  </tbody>\n",
              "</table>\n",
              "</div><br><label><b>dtype:</b> int64</label>"
            ]
          },
          "metadata": {},
          "execution_count": 130
        }
      ]
    },
    {
      "cell_type": "code",
      "metadata": {
        "id": "CVSfaqgKPzE2",
        "colab": {
          "base_uri": "https://localhost:8080/"
        },
        "outputId": "2b191006-1d13-4e7e-d110-68b0fee30655"
      },
      "source": [
        "# Train the model using the resampled training data\n",
        "\n",
        "# Tree\n",
        "#clf = DecisionTreeClassifier()\n",
        "\n",
        "# Forest\n",
        "from sklearn.ensemble import RandomForestClassifier\n",
        "clf = RandomForestClassifier(n_estimators=100, max_depth=30)\n",
        "\n",
        "clf.fit(X_train_resampled, y_train_resampled)\n",
        "clf.score(X_train_resampled, y_train_resampled)\n"
      ],
      "execution_count": null,
      "outputs": [
        {
          "output_type": "execute_result",
          "data": {
            "text/plain": [
              "0.6299130368738844"
            ]
          },
          "metadata": {},
          "execution_count": 131
        }
      ]
    },
    {
      "cell_type": "code",
      "source": [
        "print(classification_report(y_test, clf.predict(X_test)))\n"
      ],
      "metadata": {
        "colab": {
          "base_uri": "https://localhost:8080/"
        },
        "id": "T43U6znEYzAn",
        "outputId": "b5b6c5c0-8607-489d-d336-a05092b613c2"
      },
      "execution_count": null,
      "outputs": [
        {
          "output_type": "stream",
          "name": "stdout",
          "text": [
            "              precision    recall  f1-score   support\n",
            "\n",
            "          no       0.91      0.89      0.90      6528\n",
            "         yes       0.31      0.37      0.34       886\n",
            "\n",
            "    accuracy                           0.82      7414\n",
            "   macro avg       0.61      0.63      0.62      7414\n",
            "weighted avg       0.84      0.82      0.83      7414\n",
            "\n"
          ]
        }
      ]
    },
    {
      "cell_type": "code",
      "source": [
        "# Export the results to a csv file\n",
        "\n",
        "# Load holdout test data\n",
        "test = pd.read_csv(\"https://raw.githubusercontent.com/byui-cse/cse450-course/master/data/bank_holdout_test.csv\")\n",
        "#test = pd.read_csv(\"https://raw.githubusercontent.com/byui-cse/cse450-course/master/data/bank_holdout_test_mini.csv\")\n",
        "\n",
        "# Ensure consistent one-hot encoding\n",
        "test_encoded = pd.get_dummies(test[features], drop_first=True)\n",
        "\n",
        "# Align columns with training data (reindex)\n",
        "test_encoded = test_encoded.reindex(columns=X_train.columns, fill_value=0)\n",
        "\n",
        "# Predict on holdout test set\n",
        "predictions = clf.predict(test_encoded)\n",
        "\n",
        "# Convert predictions to a DataFrame\n",
        "my_predictions = pd.DataFrame(predictions, columns=['y'])\n",
        "\n",
        "# Replace 'success' with 1 and 'failure' with 0\n",
        "my_predictions['y'] = my_predictions['y'].map({'yes': 1, 'no': 0})\n",
        "\n",
        "my_predictions.to_csv(\"team2-module2-predictions.csv\", index=False)"
      ],
      "metadata": {
        "id": "SGgIV6sLMRmc"
      },
      "execution_count": null,
      "outputs": []
    },
    {
      "cell_type": "code",
      "source": [
        "# confusion matrix\n",
        "from sklearn.metrics import confusion_matrix\n",
        "import seaborn as sns\n",
        "import matplotlib.pyplot as plt\n",
        "\n",
        "y_pred = clf.predict(X_test)\n",
        "cm = confusion_matrix(y_test, y_pred)\n",
        "\n",
        "# Define class labels\n",
        "class_names = ['Did not subscribe', 'Subscribed']\n",
        "\n",
        "# Create heatmap with custom labels\n",
        "sns.heatmap(cm, annot=True, fmt='d', cmap='Blues',\n",
        "            xticklabels=class_names, yticklabels=class_names)\n",
        "plt.xlabel('Predicted')\n",
        "plt.ylabel('Actual')\n",
        "plt.show()"
      ],
      "metadata": {
        "colab": {
          "base_uri": "https://localhost:8080/",
          "height": 449
        },
        "id": "U6yS0r-EMTpx",
        "outputId": "954bc00d-c06a-40b8-df84-81ba312b2f25"
      },
      "execution_count": null,
      "outputs": [
        {
          "output_type": "display_data",
          "data": {
            "text/plain": [
              "<Figure size 640x480 with 2 Axes>"
            ],
            "image/png": "[encoded data removed]"
          },
          "metadata": {}
        }
      ]
    }
  ]
}